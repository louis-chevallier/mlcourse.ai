{
 "cells": [
  {
   "cell_type": "code",
   "execution_count": 1,
   "id": "b3ca1b91-e88a-4c0e-941b-9ec53649a081",
   "metadata": {},
   "outputs": [
    {
     "data": {
      "text/plain": [
       "'/home/louis/dev/git/mlcourse.ai/jupyter_english/tp'"
      ]
     },
     "execution_count": 1,
     "metadata": {},
     "output_type": "execute_result"
    }
   ],
   "source": [
    "\n",
    "import sys, os\n",
    "IN_COLAB = 'google.colab' in sys.modules\n",
    "if IN_COLAB : \n",
    "    # va s exécuter sur google colab\n",
    "    from google.colab import drive\n",
    "    drive.mount('/content/gdrive')\n",
    "    root_dir = \"/content/gdrive/My Drive/cours_deep/cours_epsi/git/mlcourse.ai\"\n",
    "    get_file = lambda fn : os.path.join(root_dir, \"data\", fn)\n",
    "else :\n",
    "    # avec jupyter, le cad est le folder ou se trouve le notebook\n",
    "    get_file = lambda fn : os.path.join(\"..\", \"..\", \"data\", fn)\n",
    "%pwd\n",
    "\n"
   ]
  },
  {
   "cell_type": "code",
   "execution_count": null,
   "id": "f13194bd-2ef9-4b3f-821e-b3c61a9cbccc",
   "metadata": {},
   "outputs": [],
   "source": []
  }
 ],
 "metadata": {
  "kernelspec": {
   "display_name": "Python 3 (ipykernel)",
   "language": "python",
   "name": "python3"
  },
  "language_info": {
   "codemirror_mode": {
    "name": "ipython",
    "version": 3
   },
   "file_extension": ".py",
   "mimetype": "text/x-python",
   "name": "python",
   "nbconvert_exporter": "python",
   "pygments_lexer": "ipython3",
   "version": "3.11.9"
  }
 },
 "nbformat": 4,
 "nbformat_minor": 5
}
