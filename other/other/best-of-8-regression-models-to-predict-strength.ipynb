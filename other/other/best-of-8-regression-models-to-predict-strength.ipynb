{
 "cells": [
  {
   "cell_type": "code",
   "execution_count": null,
   "metadata": {},
   "outputs": [],
   "source": [
    "%pwd\n"
   ]
  },
  {
   "cell_type": "code",
   "execution_count": null,
   "metadata": {},
   "outputs": [],
   "source": [
    "import sys, os\n",
    "IN_COLAB = 'google.colab' in sys.modules\n",
    "if IN_COLAB : \n",
    "    # vs s exécuter sur google colab\n",
    "\n",
    "\n",
    "\n",
    "\n",
    "\n",
    "\n",
    "    from google.colab import drive\n",
    "    drive.mount('/content/gdrive')\n",
    "    root_dir = \"/content/gdrive/My Drive/cours_deep/cours_epsi/git/mlcourse.ai\"\n",
    "    get_file = lambda fn : os.path.join(root_dir, \"data\", fn)\n",
    "else :\n",
    "    # avec jupyter, le cad est le folder ou se trouve le notebook\n",
    "    get_file = lambda fn : os.path.join(\"..\", \"..\", \"data\", fn)\n",
    "%pwd"
   ]
  },
  {
   "cell_type": "code",
   "execution_count": null,
   "metadata": {
    "_cell_guid": "79c7e3d0-c299-4dcb-8224-4455121ee9b0",
    "_uuid": "d629ff2d2480ee46fbb7e2d37f6b5fab8052498a"
   },
   "outputs": [],
   "source": [
    "import warnings\n",
    "warnings.filterwarnings(\"ignore\")\n",
    "\n",
    "import pandas as pd\n",
    "orig_data = pd.read_csv(get_file(\"concrete_data.csv\"))\n",
    "orig_data.head()"
   ]
  },
  {
   "cell_type": "code",
   "execution_count": null,
   "metadata": {
    "_uuid": "aa8b2370b8d8731f1a9e05d7a0c9cd0e0d59ca8a"
   },
   "outputs": [],
   "source": [
    "data = orig_data.copy()\n",
    "data.shape"
   ]
  },
  {
   "cell_type": "code",
   "execution_count": null,
   "metadata": {
    "_uuid": "472827098fac17a64f72e600e57499c4a54c4ac6"
   },
   "outputs": [],
   "source": [
    "data.info()"
   ]
  },
  {
   "cell_type": "code",
   "execution_count": null,
   "metadata": {
    "_uuid": "aa6f8f8d0f881cac50eaa50e830b84d32defef8b"
   },
   "outputs": [],
   "source": [
    "data.describe().T"
   ]
  },
  {
   "cell_type": "markdown",
   "metadata": {
    "_uuid": "c6666ad03bd44551cf20d3f33bd6c0f123de82df"
   },
   "source": [
    "No missing values, all numeric"
   ]
  },
  {
   "cell_type": "code",
   "execution_count": null,
   "metadata": {
    "_uuid": "a10b688d62b5eaa65cb357f638a18202c7b75b45"
   },
   "outputs": [],
   "source": [
    "#Changing column headers to just keep component names\n",
    "data.columns = [col[:col.find(\"(\")].strip() for col in data.columns]\n",
    "data.head()"
   ]
  },
  {
   "cell_type": "code",
   "execution_count": null,
   "metadata": {
    "_uuid": "77b1798dcc6caccd12e01020d128f9fd35ec38bf"
   },
   "outputs": [],
   "source": [
    "from sklearn.model_selection import train_test_split\n",
    "x_train, x_test, y_train, y_test = train_test_split(data[data.columns[:-1]],\n",
    "                                                    data[[data.columns[-1]]],\n",
    "                                                    test_size = .2,\n",
    "                                                    random_state = 1)"
   ]
  },
  {
   "cell_type": "markdown",
   "metadata": {
    "_uuid": "f9083a7d2bd7a0d2d770ddb665193de1679ddbda"
   },
   "source": [
    "Rather than splitting training data further to validation set, we will perform cross validation in all our training models."
   ]
  },
  {
   "cell_type": "code",
   "execution_count": null,
   "metadata": {
    "_uuid": "6dbad691f10d6803a058bb90e64a4f8d45e089b1"
   },
   "outputs": [],
   "source": [
    "from pandas.plotting import scatter_matrix\n",
    "import matplotlib.pyplot as plt\n",
    "sm = scatter_matrix(x_train, figsize=(15,15), diagonal = 'kde')\n",
    "#Changing label rotation\n",
    "[s.xaxis.label.set_rotation(45) for s in sm.reshape(-1)]\n",
    "[s.yaxis.label.set_rotation(45) for s in sm.reshape(-1)]\n",
    "#Changing offset for label\n",
    "[s.get_yaxis().set_label_coords(-0.5,0.5) for s in sm.reshape(-1)]\n",
    "#Hiding ticks\n",
    "[s.set_xticks(()) for s in sm.reshape(-1)]\n",
    "[s.set_yticks(()) for s in sm.reshape(-1)]\n",
    "plt.show()"
   ]
  },
  {
   "cell_type": "markdown",
   "metadata": {
    "_uuid": "ae6ccc32be866faa3655fa449b0ba67c7a174660"
   },
   "source": [
    "No high correlation between any two features. Lets verify with Heatmap."
   ]
  },
  {
   "cell_type": "code",
   "execution_count": null,
   "metadata": {
    "_uuid": "f6b1af60afaaeb62c64979240dbbc069c7dc0b2c"
   },
   "outputs": [],
   "source": [
    "import seaborn as sns\n",
    "sns.heatmap(x_train.corr().abs())\n",
    "plt.show()"
   ]
  },
  {
   "cell_type": "markdown",
   "metadata": {
    "_uuid": "51e073e69e209948b7234d2b6811bae60e173ff6"
   },
   "source": [
    "Little correlation of ~0.6 between Superplasticizer and Water (which is negative as evident from scatter matrix), but lets move forward as is."
   ]
  },
  {
   "cell_type": "code",
   "execution_count": null,
   "metadata": {
    "_uuid": "1c1907b7b5aa877cf4c44b3a455e7a9099b41f44"
   },
   "outputs": [],
   "source": [
    "#Scaling the features\n",
    "from sklearn.preprocessing import StandardScaler\n",
    "scaler = StandardScaler().fit(x_train)\n",
    "x_train_scaled = pd.DataFrame(scaler.transform(x_train),\n",
    "                              columns = x_train.columns)\n",
    "x_train_scaled.head()"
   ]
  },
  {
   "cell_type": "code",
   "execution_count": null,
   "metadata": {
    "_uuid": "32a633109a81af0fd9be080b7f3dbd5f4d6a767a"
   },
   "outputs": [],
   "source": [
    "#We will save the model performance metrics in a DataFrame\n",
    "from sklearn.metrics import mean_squared_error, r2_score\n",
    "from sklearn.model_selection import KFold, cross_val_score\n",
    "import numpy as np\n",
    "Model = []\n",
    "RMSE = []\n",
    "R_sq = []\n",
    "cv = KFold(5)\n",
    "\n",
    "#Creating a Function to append the cross validation scores of the algorithms\n",
    "def input_scores(name, model, x, y):\n",
    "    Model.append(name)\n",
    "    RMSE.append(np.sqrt((-1) * cross_val_score(model, x, y, cv=cv, \n",
    "                                               scoring='neg_mean_squared_error').mean()))\n",
    "    R_sq.append(cross_val_score(model, x, y, cv=cv, scoring='r2').mean())"
   ]
  },
  {
   "cell_type": "code",
   "execution_count": null,
   "metadata": {
    "_uuid": "28f664b6677e3ca89bebd2ef0e20ea6010dfab07"
   },
   "outputs": [],
   "source": [
    "from sklearn.linear_model import LinearRegression, Ridge, Lasso\n",
    "from sklearn.neighbors import KNeighborsRegressor\n",
    "from sklearn.tree import DecisionTreeRegressor\n",
    "from sklearn.ensemble import (RandomForestRegressor, GradientBoostingRegressor, \n",
    "                              AdaBoostRegressor)\n",
    "\n",
    "\n",
    "from sklearn.svm import SVR\n",
    "\n",
    "\n",
    "\n",
    "names = ['Linear Regression', 'Ridge Regression', 'Lasso Regression',\n",
    "         'K Neighbors Regressor', 'Decision Tree Regressor', \n",
    "         'Random Forest Regressor', 'Gradient Boosting Regressor',\n",
    "         'Adaboost Regressor', 'SVR']\n",
    "models = [LinearRegression(), Ridge(), Lasso(),\n",
    "          KNeighborsRegressor(), DecisionTreeRegressor(),\n",
    "          RandomForestRegressor(), GradientBoostingRegressor(), \n",
    "          AdaBoostRegressor(), SVR(C=100)]\n",
    "\n",
    "#Running all algorithms\n",
    "for name, model in zip(names, models):\n",
    "    input_scores(name, model, x_train_scaled, y_train)"
   ]
  },
  {
   "cell_type": "code",
   "execution_count": null,
   "metadata": {
    "_uuid": "e07bfa1dc0cd6618f2e1629cc12b02a7d37ff021"
   },
   "outputs": [],
   "source": [
    "evaluation = pd.DataFrame({'Model': Model,\n",
    "                           'RMSE': RMSE,\n",
    "                           'R Squared': R_sq})\n",
    "print(\"FOLLOWING ARE THE TRAINING SCORES: \")\n",
    "evaluation"
   ]
  },
  {
   "cell_type": "markdown",
   "metadata": {
    "_uuid": "558d9e4f17d037c19cd55a29cb670fdac42d3e0e"
   },
   "source": [
    "Gradient Boosting Regressor has the lowest RMSE, highest R-Squared"
   ]
  },
  {
   "cell_type": "code",
   "execution_count": null,
   "metadata": {
    "_uuid": "fb97363091c2d342e8d818309243bc79ef186094"
   },
   "outputs": [],
   "source": [
    "#tuning this base model\n",
    "GradientBoostingRegressor()"
   ]
  },
  {
   "cell_type": "code",
   "execution_count": null,
   "metadata": {
    "_uuid": "73a4b2429b3699c74b4da3408991fcc31d6ed0f1"
   },
   "outputs": [],
   "source": [
    "#tuning for number of trees\n",
    "from sklearn.model_selection import GridSearchCV\n",
    "param_grid = {'n_estimators':range(20,1001,150),\n",
    "              'max_depth':[10], #range(5,16,2), \n",
    "              'min_samples_split':[100], #range(200,1001,200), \n",
    "              'learning_rate':[0.2]}\n",
    "clf = GridSearchCV(GradientBoostingRegressor(random_state=1), \n",
    "                   param_grid = param_grid, scoring='r2', \n",
    "                   cv=cv).fit(x_train_scaled, y_train)\n",
    "print(clf.best_estimator_) \n",
    "print(\"R Squared:\",clf.best_score_)"
   ]
  },
  {
   "cell_type": "code",
   "execution_count": null,
   "metadata": {
    "_uuid": "6157471242ab7dbfd4e3af06237338ba3fbb4792"
   },
   "outputs": [],
   "source": [
    "#tuning the tree specific parameters\n",
    "param_grid = {'n_estimators': [230],\n",
    "              'max_depth': range(10,31,8), \n",
    "              'min_samples_split': range(50,501,50), \n",
    "              'learning_rate':[0.2]}\n",
    "clf = GridSearchCV(GradientBoostingRegressor(random_state=1), \n",
    "                   param_grid = param_grid, scoring='r2', \n",
    "                   cv=cv).fit(x_train_scaled, y_train)\n",
    "print(clf.best_estimator_) \n",
    "print(\"R Squared:\",clf.best_score_)"
   ]
  },
  {
   "cell_type": "code",
   "execution_count": null,
   "metadata": {
    "_uuid": "1da11007e9b2f1e54f8d6300024a5955b0924403"
   },
   "outputs": [],
   "source": [
    "#now increasing number of trees and decreasing learning rate proportionally\n",
    "clf = GradientBoostingRegressor(random_state=1, max_depth=20, \n",
    "                                min_samples_split=170, n_estimators=230*2, \n",
    "                                learning_rate=0.2/2)\n",
    "print(\"R Squared:\",cross_val_score(clf, x_train_scaled, y_train, cv=cv, scoring='r2').mean())"
   ]
  },
  {
   "cell_type": "markdown",
   "metadata": {
    "_uuid": "918d923de8ccf6945db3c61ed68a915be59233ff"
   },
   "source": [
    "**Since score improved, the best model is GradientBoostingRegressor with learning_rate= 0.2/2, max_depth= 20, min_samples_split= 170, n_estimators= 230*2**"
   ]
  },
  {
   "cell_type": "code",
   "execution_count": null,
   "metadata": {
    "_uuid": "432dcb20a9f0a4b9c9f2e81ef7a93da8d42f72fc"
   },
   "outputs": [],
   "source": [
    "#applying this model on test data\n",
    "x_test_scaled = pd.DataFrame(scaler.transform(x_test),\n",
    "                             columns = x_test.columns)\n",
    "clf = GradientBoostingRegressor(learning_rate=0.2/2, max_depth=20,\n",
    "                                min_samples_split=170, n_estimators=230*2, \n",
    "                                random_state=1).fit(x_train_scaled, y_train)\n",
    "print(\"Test RMSE: \", np.sqrt(mean_squared_error(y_test, clf.predict(x_test_scaled))))\n",
    "print(\"Test R^2: \", r2_score(y_test, clf.predict(x_test_scaled)))"
   ]
  },
  {
   "cell_type": "code",
   "execution_count": null,
   "metadata": {},
   "outputs": [],
   "source": []
  },
  {
   "cell_type": "code",
   "execution_count": null,
   "metadata": {},
   "outputs": [],
   "source": []
  },
  {
   "cell_type": "code",
   "execution_count": null,
   "metadata": {},
   "outputs": [],
   "source": []
  },
  {
   "cell_type": "code",
   "execution_count": null,
   "metadata": {},
   "outputs": [],
   "source": []
  },
  {
   "cell_type": "code",
   "execution_count": null,
   "metadata": {},
   "outputs": [],
   "source": []
  }
 ],
 "metadata": {
  "kernelspec": {
   "display_name": "Python 3 (ipykernel)",
   "language": "python",
   "name": "python3"
  },
  "language_info": {
   "codemirror_mode": {
    "name": "ipython",
    "version": 3
   },
   "file_extension": ".py",
   "mimetype": "text/x-python",
   "name": "python",
   "nbconvert_exporter": "python",
   "pygments_lexer": "ipython3",
   "version": "3.9.20"
  }
 },
 "nbformat": 4,
 "nbformat_minor": 4
}
